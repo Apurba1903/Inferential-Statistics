{
 "cells": [
  {
   "cell_type": "code",
   "execution_count": null,
   "metadata": {
    "id": "B4Qg4JoFfH7X"
   },
   "outputs": [],
   "source": []
  },
  {
   "cell_type": "code",
   "execution_count": null,
   "metadata": {
    "colab": {
     "base_uri": "https://localhost:8080/",
     "height": 265
    },
    "id": "aYU6WgqPfhFp",
    "outputId": "c6051e24-c97f-44e4-d13a-63a0eee8d504"
   },
   "outputs": [],
   "source": []
  },
  {
   "cell_type": "code",
   "execution_count": null,
   "metadata": {
    "colab": {
     "base_uri": "https://localhost:8080/",
     "height": 295
    },
    "id": "WlQgIHA9iJPT",
    "outputId": "c313b30a-4621-4d75-e1a9-8b7d53b79f7b"
   },
   "outputs": [],
   "source": [
    "# Set the parameters\n",
    "\n",
    "\n",
    "\n",
    "# Generate samples from a uniform distribution\n",
    "\n",
    "\n",
    "\n",
    "# Calculate the sample means\n",
    "\n",
    "\n",
    "\n",
    "# Plot the histogram of the sample means\n",
    "\n",
    "\n"
   ]
  },
  {
   "cell_type": "code",
   "execution_count": null,
   "metadata": {
    "colab": {
     "base_uri": "https://localhost:8080/",
     "height": 295
    },
    "id": "jBdPqh9goUtg",
    "outputId": "87f5bdbb-37f7-4909-b9f5-6ae6f6f6575e"
   },
   "outputs": [],
   "source": [
    "# Set the parameters\n",
    "\n",
    "\n",
    "\n",
    "# Generate samples from an exponential distribution\n",
    "\n",
    "\n",
    "\n",
    "# Calculate the sample means\n",
    "\n",
    "\n",
    "\n",
    "# Plot the histogram of the sample means\n",
    "\n",
    "\n"
   ]
  },
  {
   "cell_type": "code",
   "execution_count": null,
   "metadata": {
    "colab": {
     "base_uri": "https://localhost:8080/",
     "height": 873
    },
    "id": "kQNpAKeEooeM",
    "outputId": "72b46397-adb8-4176-bea0-ceca45c4dea2"
   },
   "outputs": [],
   "source": [
    "# Set the parameters\n",
    "\n",
    "\n",
    "\n",
    "# Poisson distribution parameters\n",
    "\n",
    "\n",
    "\n",
    "# Gamma distribution parameters\n",
    "\n",
    "\n",
    "\n",
    "# Binomial distribution parameters\n",
    "\n",
    "\n",
    "\n",
    "# Generate samples from the distributions\n",
    "\n",
    "\n",
    "\n",
    "# Calculate the sample means\n",
    "\n",
    "\n",
    "\n",
    "# Plot the histograms of the sample means\n",
    "\n",
    "\n",
    "\n",
    "# Poisson distribution\n",
    "\n",
    "\n",
    "\n",
    "# Gamma distribution\n",
    "\n",
    "\n",
    "\n",
    "# Binomial distribution\n",
    "\n",
    "\n",
    "\n",
    "# Adjust the layout and show the plot\n",
    "\n",
    "\n"
   ]
  },
  {
   "cell_type": "code",
   "execution_count": null,
   "metadata": {
    "id": "AT6yMOCt7p5F"
   },
   "outputs": [],
   "source": [
    "# CLT Demo Gamma Distribution\n",
    "\n",
    "\n"
   ]
  },
  {
   "cell_type": "code",
   "execution_count": null,
   "metadata": {
    "colab": {
     "base_uri": "https://localhost:8080/"
    },
    "id": "Wczh1MGWrKu-",
    "outputId": "bb0c4e29-80f8-4846-ae7a-cbd46afb1b82"
   },
   "outputs": [],
   "source": [
    "# Set the parameters\n",
    "\n",
    "\n",
    "\n",
    "# Gamma distribution parameters\n",
    "\n",
    "\n",
    "\n",
    "# Calculate the theoretical mean and variance\n",
    "\n",
    "\n",
    "\n",
    "# Generate samples from the Gamma distribution\n",
    "\n",
    "\n",
    "\n",
    "# Calculate the sample means\n",
    "\n",
    "\n",
    "\n",
    "# Calculate the empirical mean and variance of the sample means\n",
    "\n",
    "\n",
    "\n",
    "# Compare the theoretical and empirical values\n",
    "\n",
    "\n",
    "\n"
   ]
  },
  {
   "cell_type": "code",
   "execution_count": null,
   "metadata": {
    "colab": {
     "base_uri": "https://localhost:8080/"
    },
    "id": "mng5NEYU4M5M",
    "outputId": "33703bb3-7ed9-47c1-930f-f9120e690282"
   },
   "outputs": [],
   "source": []
  },
  {
   "cell_type": "code",
   "execution_count": null,
   "metadata": {
    "id": "1dMCwb8Os6jT"
   },
   "outputs": [],
   "source": [
    "# CLT Demo Log Normal Distribution\n",
    "\n"
   ]
  },
  {
   "cell_type": "code",
   "execution_count": null,
   "metadata": {
    "colab": {
     "base_uri": "https://localhost:8080/"
    },
    "id": "ytt83w9ZtOtj",
    "outputId": "5f41fad2-812e-45c4-b376-d7e4b1f7bde1"
   },
   "outputs": [],
   "source": [
    "# Set the parameters\n",
    "\n",
    "\n",
    "\n",
    "# Log-Normal distribution parameters\n",
    "\n",
    "\n",
    "\n",
    "# Calculate the theoretical mean and variance\n",
    "\n",
    "\n",
    "\n",
    "# Generate samples from the Log-Normal distribution\n",
    "\n",
    "\n",
    "\n",
    "# Calculate the sample means\n",
    "\n",
    "\n",
    "\n",
    "# Calculate the empirical mean and variance of the sample means\n",
    "\n",
    "\n",
    "\n",
    "# Compare the theoretical and empirical values\n",
    "\n",
    "\n"
   ]
  },
  {
   "cell_type": "code",
   "execution_count": null,
   "metadata": {
    "id": "EJyIyvBrtdBc"
   },
   "outputs": [],
   "source": []
  },
  {
   "cell_type": "code",
   "execution_count": null,
   "metadata": {
    "id": "fAJUPbqD7Vyo"
   },
   "outputs": [],
   "source": [
    "# CLT Case Study\n",
    "\n",
    "\n"
   ]
  },
  {
   "cell_type": "code",
   "execution_count": null,
   "metadata": {
    "colab": {
     "base_uri": "https://localhost:8080/"
    },
    "id": "uYZgnbUKvqYO",
    "outputId": "c7445d72-948c-4464-8e34-924f1c398ae8"
   },
   "outputs": [],
   "source": [
    "# Set the parameters\n",
    "\n",
    "\n",
    "\n",
    "# Generate a random representative sample of salaries (in thousands)\n",
    "\n",
    "\n",
    "\n",
    "# You should replace this with actual collected salary data\n",
    "\n",
    "\n",
    "\n",
    "# Generate multiple samples and calculate the sample means and standard deviations\n",
    "\n",
    "\n",
    "\n",
    "# Calculate the average of the sample means and the standard error\n",
    "\n",
    "\n",
    "\n",
    "# Calculate the 95% confidence interval\n",
    "\n",
    "\n",
    "\n",
    "# Report the results\n",
    "\n",
    "\n"
   ]
  },
  {
   "cell_type": "code",
   "execution_count": null,
   "metadata": {
    "id": "UPfxXKaD7TFf"
   },
   "outputs": [],
   "source": []
  }
 ],
 "metadata": {
  "colab": {
   "provenance": []
  },
  "kernelspec": {
   "display_name": "Python 3",
   "name": "python3"
  },
  "language_info": {
   "name": "python"
  }
 },
 "nbformat": 4,
 "nbformat_minor": 0
}
