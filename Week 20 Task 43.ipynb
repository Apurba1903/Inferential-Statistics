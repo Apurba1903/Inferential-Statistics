{
  "cells": [
    {
      "cell_type": "code",
      "execution_count": 104,
      "metadata": {},
      "outputs": [],
      "source": [
        "import numpy as np\n",
        "import pandas as pd\n",
        "import seaborn as sns\n",
        "import matplotlib.pyplot as plt\n",
        "import scipy.stats as stats\n",
        "from scipy.stats import binom\n",
        "from scipy.stats import norm\n",
        "from scipy.special import comb"
      ]
    },
    {
      "cell_type": "markdown",
      "metadata": {},
      "source": [
        "`1. A company claims that their email marketing campaign has a 15% click-through rate. If you randomly select 100 people to receive the email, what is the probability that exactly 20 will click through to the website?`"
      ]
    },
    {
      "cell_type": "markdown",
      "metadata": {},
      "source": [
        "#### Solution\n",
        "\n",
        "This is a binomial probability problem. The probability of exactly 20 people clicking through to the website out of 100 people who received the email can be calculated using the binomial formula:\n",
        "\n",
        "`P( X = k ) = ( n choose k ) * p^k * ( 1-p )^( n-k )`\n",
        "\n",
        "Where, <br>\n",
        "`n` is the number of trails `( 100 in this case )` <br>\n",
        "`k` is the number of success `( 20 in this case )` <br>\n",
        "`p` is the probability of success on a single trial `( 0.15 in this case )` <br>\n",
        "\n",
        "Substituting these values into the formula, we get:\n",
        "\n",
        "`P( X = 20 ) = ( 100 choose 20 ) * 0.15^20 * ( 1-0.15 )^( 100-20 )`\n",
        "\n",
        "`P( X = 20 ) ≈ 0.04`\n",
        "\n",
        "So, The probability that exactly 20 out of 100 people will click through to the website is approximately or about 4%.\n",
        "\n",
        "\n"
      ]
    },
    {
      "cell_type": "code",
      "execution_count": 105,
      "metadata": {},
      "outputs": [
        {
          "name": "stdout",
          "output_type": "stream",
          "text": [
            "0.04022449066141772\n",
            "0.04022449066141756\n"
          ]
        }
      ],
      "source": [
        "n = 100\n",
        "k = 20\n",
        "p = 0.15\n",
        "\n",
        "prob = binom.pmf(k, n, p)\n",
        "print(prob)\n",
        "\n",
        "result = comb(n, k, exact=True) * ((p)**k) * ( 1-p )**( n-k )\n",
        "print(result)"
      ]
    },
    {
      "cell_type": "markdown",
      "metadata": {},
      "source": [
        "`2. A researcher is investigating whether a new medication improves patient outcomes. The medication has a success rate of 75%. If the researcher enrolls 50 patients in the study, what is the probability that fewer than 35 will have a positive outcome?`"
      ]
    },
    {
      "cell_type": "markdown",
      "metadata": {},
      "source": [
        "#### Solution\n",
        "\n",
        "This is another binomial probability problem. The probability of fewer than 35 patients having a positive outcome out of 50 patients enrolled in the study can be calculated using the cumulative distribution function (CDF) of the binomial distribution.\n",
        "\n",
        "`P(X ≤ k) = ∑[i=0 to k] (n choose i) * p^i * (1-p)^(n-i)`\n",
        "\n",
        "The CDF gives the probability that the number of successes in n independent trails is less than or equal to a given value k. \n",
        "\n",
        "Where,<br>\n",
        "`n` is the number of patients enrolled in the study `(50)` <br>\n",
        "`k` is the maximum number of patients with a positive outcome `(34)` <br>\n",
        "`p` is the probability of success on a single trial `(0.75)` <br>\n"
      ]
    },
    {
      "cell_type": "code",
      "execution_count": 106,
      "metadata": {},
      "outputs": [
        {
          "name": "stdout",
          "output_type": "stream",
          "text": [
            "0.16308327146260387\n",
            "0.16308327146260382\n"
          ]
        }
      ],
      "source": [
        "n = 50\n",
        "k = 34\n",
        "p = 0.75\n",
        "\n",
        "prob = binom.cdf(k, n, p)\n",
        "print(prob)\n",
        "\n",
        "result = 0\n",
        "for i in range(k + 1):\n",
        "    result += comb(n, i, exact=True) * ((p)**i) * (1-p)**(n-i)\n",
        "print(result)"
      ]
    },
    {
      "cell_type": "markdown",
      "metadata": {},
      "source": [
        "`3. A website offers a premium subscription service with a 20% sign-up rate. If you randomly select 500 visitors to the website, what is the probability that between 90 and 110 will sign up for the premium service?`"
      ]
    },
    {
      "cell_type": "markdown",
      "metadata": {},
      "source": [
        "#### Solution\n",
        "\n",
        "This is another binomial probability problem. The probability of between 90 and 110 visitors signing up for the premium service out of 500 visitors to the website can be calculated using the cumulative distribution function (CDF) of the binomial distribution.\n",
        "\n",
        "The CDF gives the probability that the number of successes in n independent trails is less than or equal to a given value k.\n",
        "\n",
        "Where, <br>\n",
        "`n` is the number of visitor to the website `(500)` <br>\n",
        "`k1` is the minimum number of visitors who sign up for the premium service `(90)` <br>\n",
        "`k2` is the maximum number of visitors who sign up for the premium service `(110)` <br>\n",
        "`p` is the probability of success on a single trail `(0.20)` <br>\n",
        "\n",
        "The probability that between `k1` and `k2` visitors will sign up for the premium service out of `n` visitors to the website can be calculated as:\n",
        "\n",
        "`P(k1 ≤ X ≤ k2) = P(X ≤ k2) - P(X < k1) = F(k2) - F(k1-1)`\n",
        "\n",
        "Where, <br>\n",
        "`F(k)` is the CDF of the binomial distribution with parameters `n` and `p` at `k`."
      ]
    },
    {
      "cell_type": "code",
      "execution_count": 107,
      "metadata": {},
      "outputs": [
        {
          "name": "stdout",
          "output_type": "stream",
          "text": [
            "0.759748160785157\n",
            "0.7597481607851779\n"
          ]
        }
      ],
      "source": [
        "n = 500\n",
        "p = 0.20\n",
        "k1 = 90\n",
        "k2 = 110\n",
        "\n",
        "prob = binom.cdf(k2, n, p) - binom.cdf(k1 - 1, n, p)\n",
        "print(prob)\n",
        "\n",
        "def okay(k, n, p):\n",
        "    result = 0\n",
        "    for i in range(k+1):\n",
        "        result += comb(n, i, exact=True) * ((p)**i) * (1-p)**(n-i)\n",
        "    return result\n",
        "\n",
        "print(okay(k2, n, p) - okay(k1-1, n, p))"
      ]
    },
    {
      "cell_type": "markdown",
      "metadata": {},
      "source": [
        "`4. A school district is investigating the effectiveness of a new reading program. The program has a success rate of 70%. If the district enrolls 200 students in the program, what is the probability that more than 140 will show significant improvement in reading skills?`"
      ]
    },
    {
      "cell_type": "markdown",
      "metadata": {},
      "source": [
        "#### Solution\n",
        "\n",
        "This is another binomial probability problem. The probability of more than 140 students showing significant improvement in reading skills out of 200 students enrolled in the program can be calculated using the cumulative distribution function (CDF) of the binomial distribution.\n",
        "\n",
        "The CDF gives the probability that the number of successes in `n` independent trails is less than or equal to a given value `k`.\n",
        "\n",
        "Where, <br>\n",
        "`n` is the number of student enrolled in the program `(200)` <br>\n",
        "`k` is the maximum number of students who do not show significant improvement in reading skills `(140)` <br>\n",
        "`p` is the probability of success on a single trail `(0.70)` <br>\n",
        "\n",
        "The probability that more than `k` students will show significant improvement in reading skills out of `n` students enrolled in the program can be calculated as:\n",
        "\n",
        "`P(X > k) = 1 - P(X ≤ k) = 1 - F(k)`\n",
        "\n",
        "Where, <br>\n",
        "`F(k)` is the CDF of the binomial distribution with parameters `n` and `p` at `k`."
      ]
    },
    {
      "cell_type": "code",
      "execution_count": 108,
      "metadata": {},
      "outputs": [
        {
          "name": "stdout",
          "output_type": "stream",
          "text": [
            "0.4733474593659296\n",
            "0.47334745936592904\n"
          ]
        }
      ],
      "source": [
        "n = 200\n",
        "p = 0.70\n",
        "k = 140\n",
        "\n",
        "prob = 1 - binom.cdf(k, n, p)\n",
        "print(prob)\n",
        "\n",
        "print(1 - okay(k, n, p))"
      ]
    },
    {
      "cell_type": "markdown",
      "metadata": {},
      "source": [
        "`5. A factory produces electronic components with a defect rate of 5%. If a shipment of 200 components is sent out, what is the probability that fewer than 10 will be defective?`"
      ]
    },
    {
      "cell_type": "markdown",
      "metadata": {},
      "source": [
        "#### Solution\n",
        "\n",
        "The CDF gives the probability that the number of successes in `n` independent trails is less than or equal to a given value `k`. \n",
        "\n",
        "Where, <br>\n",
        "`n` is the number of components in the shipment `(200)` <br>\n",
        "`k` is the maximum number of defective components `(9)` <br>\n",
        "`p` is the probability of success on a single trial `(0.05)` <br>"
      ]
    },
    {
      "cell_type": "code",
      "execution_count": 109,
      "metadata": {},
      "outputs": [
        {
          "name": "stdout",
          "output_type": "stream",
          "text": [
            "0.4547098086808191\n"
          ]
        }
      ],
      "source": [
        "n = 200\n",
        "k = 9\n",
        "p = 0.05\n",
        "\n",
        "prob = binom.cdf(k, n, p)\n",
        "print(prob)"
      ]
    },
    {
      "cell_type": "markdown",
      "metadata": {},
      "source": [
        "`6. A survey shows that 70% of people prefer chocolate ice cream over vanilla ice cream. If you randomly survey one person, what is the probability that they prefer vanilla ice cream?`"
      ]
    },
    {
      "cell_type": "markdown",
      "metadata": {},
      "source": [
        "#### Solution\n",
        "\n",
        "This is a Bernoulli trail. \n",
        "\n",
        "Where, <br>\n",
        "`p` = `0.7` <br>\n",
        "\n",
        "The probability that a randomly selected person prefers vanilla ice cream is: <br>\n",
        "1 - p \n",
        "= 1 - 0.70 \n",
        "= 0.30\n",
        "\n",
        "Which is `0.30` or `30%`."
      ]
    },
    {
      "cell_type": "markdown",
      "metadata": {},
      "source": [
        "`7. A software company releases a new product with a bug rate of 2%. If 10,000 copies of the product are sold, what is the probability that at least 250 will have a bug?`"
      ]
    },
    {
      "cell_type": "markdown",
      "metadata": {},
      "source": [
        "#### Solution\n",
        "\n",
        "This is another binomial distribution problem. To calculate the probability, we can use the cumulative distribution function (CDF) of the binomial distribution. We can model the number of copies with bugs out of 10000 as a binomial random variable \n",
        "\n",
        "with, <br>\n",
        "`n` = `10000` <br>\n",
        "`p` = `0.02`\n",
        "\n",
        "Where `p` is the probability of a single copy having a bug. We need to find the probability that at least `250` copies have a bug, which can be written as:\n",
        "\n",
        "`P(X >= 250) = 1 - P(X < 250)`\n",
        "\n",
        "Where `X` is the number of copies with bugs."
      ]
    },
    {
      "cell_type": "code",
      "execution_count": 110,
      "metadata": {},
      "outputs": [
        {
          "name": "stdout",
          "output_type": "stream",
          "text": [
            "The probability that at least 250 copies have a bug is  0.0003\n"
          ]
        }
      ],
      "source": [
        "n = 10000\n",
        "p = 0.02\n",
        "x = 250\n",
        "\n",
        "prob = 1 - binom.cdf(x - 1, n, p)\n",
        "\n",
        "print(f\"The probability that at least {x} copies have a bug is {prob: .4f}\")"
      ]
    },
    {
      "cell_type": "markdown",
      "metadata": {},
      "source": [
        "### Central Limit Theorem:\n",
        "\n",
        "`8. According to data from the National Center for Health Statistics (NCHS), the average height for adult men aged 20 years and over in the United States is approximately 69.2 inches with a standard deviation of approximately 2.9 inches. If you randomly select a sample of 50 adult men aged 20 years and over, what is the probability that the sample mean height is greater than 70 inches?`"
      ]
    },
    {
      "cell_type": "markdown",
      "metadata": {},
      "source": [
        "#### Solution\n",
        "\n",
        "This is a problem that can be solved using a central limit theorem. The central limit theorem stats that the distribution of a sample means approaches a normal distribution  as the sample size increases, regardless of the shape of the population distribution.\n",
        "\n",
        "In this case, we are given that the `population mean height is 69.2 inches` and `population standard deviation is 2.9 inches`. If we randomly select a `sample of 50 adult men`, the sample mean height will have a normal distribution with a mean equal to the `population mean (69.2)` and a standard deviation equal to the population standard deviation divided by the square root of the `sample size (2.9/np.sqrt(50) = 0.41)`.\n",
        "\n",
        "We can use this information to calculate the probability that the sample mean height is greater than `70` inches. This probability is equivalent to the probability that a standard normal variable Z is greater than `(70-69.2) / 0.41 = 1.95`.\n",
        "\n",
        "Using a standard normal table or a mathematical software package such as Python's scipy library, We can find that this probability is approximately `0.026 or about 2.6%`."
      ]
    },
    {
      "cell_type": "code",
      "execution_count": 111,
      "metadata": {},
      "outputs": [
        {
          "name": "stdout",
          "output_type": "stream",
          "text": [
            "0.025549978630102443\n"
          ]
        }
      ],
      "source": [
        "mu = 69.2\n",
        "sigma = 2.9\n",
        "n = 50\n",
        "x = 70\n",
        "\n",
        "z = (x - mu) / (sigma / (n ** 0.5))\n",
        "\n",
        "prob = 1 - norm.cdf(z)\n",
        "print(prob)"
      ]
    },
    {
      "cell_type": "markdown",
      "metadata": {},
      "source": [
        "`9. A company claims that the average salary of its employees is 75,000 with a standard deviation of 10,000. If you randomly select 100 employees, what is the probability that the sample mean salary is less than 72,500?`"
      ]
    },
    {
      "cell_type": "markdown",
      "metadata": {},
      "source": [
        "#### Solution\n",
        "\n",
        "This problem can be solved with central limit theorem. The central limit stats that the distribution of sample means approaches a normal distribution as the sample size increases, regardless of the shape of the population distribution.\n",
        "\n",
        "In this case, We are given that the population mean salary is `75000` and the population standard deviation is `10000`. If we randomly select a sample of `100` employees, the sample mean salary will have a normal distribution with a mean equal to the population mean (`75000`) and a standard deviation equal to the population standard deviation divided by the square root of sample size `(10000 / np.sqrt(100) = 1000)`\n",
        "\n",
        "We can use this information to calculate the probability that the sample mean salary is less than `72500`. This probability is equivalent to the probability that a standard normal variable Z is less than `(72500 - 75000) / 1000 = -2.5.`"
      ]
    },
    {
      "cell_type": "code",
      "execution_count": 112,
      "metadata": {},
      "outputs": [
        {
          "name": "stdout",
          "output_type": "stream",
          "text": [
            "0.006209665325776132\n"
          ]
        }
      ],
      "source": [
        "mu = 75000\n",
        "sigma = 10000\n",
        "n = 100\n",
        "x = 72500\n",
        "\n",
        "z = (x - mu) / (sigma / ( n ** 0.5 ))\n",
        "\n",
        "prob = norm.cdf(z)\n",
        "print(prob)"
      ]
    },
    {
      "cell_type": "markdown",
      "metadata": {},
      "source": [
        "`10. A restaurant claims that the average wait time for a table is 15 minutes with a standard deviation of 3 minutes. If you randomly survey 50 customers, what is the probability that the sample mean wait time is greater than 16 minutes?\n",
        "Bernoulli Distribution:`"
      ]
    },
    {
      "cell_type": "markdown",
      "metadata": {},
      "source": [
        "#### Solution\n",
        "\n",
        "This problem can be solved with central limit theorem. The central limit stats that the distribution of sample means approaches a normal distribution as the sample size increases, regardless of the shape of the population distribution.\n",
        "\n",
        "In this case, we are given that the population mean wait time is `15 minutes` and the population standard deviation is `3 minutes`. If we randomly select a sample of `50 customers`, the sample mean wait time will have a normal distribution with a mean equal to the population `mean (15)` and a standard deviation equal to the population standard deviation divided by the square root of the sample size `(3 / np.sqrt(50) = 0.424)`.\n",
        "\n",
        "We can use this information to calculate the probability that the sample mean wait time is greater than 16 minutes. This probability is equivalent to the probability that a standard normal variable `Z` is greater than `(16 - 15) / 0.424 = 2.36`"
      ]
    },
    {
      "cell_type": "code",
      "execution_count": 113,
      "metadata": {},
      "outputs": [
        {
          "name": "stdout",
          "output_type": "stream",
          "text": [
            "Z:2.3570226039551585\n",
            "0.009211062727049524\n"
          ]
        }
      ],
      "source": [
        "mu = 15\n",
        "sigma = 3\n",
        "n = 50\n",
        "x = 16\n",
        "\n",
        "z = (x - mu) / (sigma / (n ** 0.5))\n",
        "print(f\"Z:{z}\")\n",
        "\n",
        "prob = 1 - norm.cdf(z)\n",
        "print(prob)"
      ]
    },
    {
      "cell_type": "markdown",
      "metadata": {},
      "source": [
        "`11. DataSet Link: https://www.kaggle.com/datasets/ruchi798/data-science-job-salaries`\n",
        "\n",
        "* What is the average and standard deviation for the salary in our data set? Show the distribution of the salary (Histogram and kde both).\n",
        "* Now verify the dataset mean and std from using central limit theorem using following sample and sample size:\n",
        "\n",
        "    * 200 samples of size 30\n",
        "\n",
        "    * 100 samples of size 50\n",
        "\n",
        "* Plot samples means distribution and show horizontal line for both mean value: Dataset mean value and means of sample mean."
      ]
    },
    {
      "cell_type": "code",
      "execution_count": 114,
      "metadata": {},
      "outputs": [
        {
          "data": {
            "text/html": [
              "<div>\n",
              "<style scoped>\n",
              "    .dataframe tbody tr th:only-of-type {\n",
              "        vertical-align: middle;\n",
              "    }\n",
              "\n",
              "    .dataframe tbody tr th {\n",
              "        vertical-align: top;\n",
              "    }\n",
              "\n",
              "    .dataframe thead th {\n",
              "        text-align: right;\n",
              "    }\n",
              "</style>\n",
              "<table border=\"1\" class=\"dataframe\">\n",
              "  <thead>\n",
              "    <tr style=\"text-align: right;\">\n",
              "      <th></th>\n",
              "      <th>work_year</th>\n",
              "      <th>experience_level</th>\n",
              "      <th>employment_type</th>\n",
              "      <th>job_title</th>\n",
              "      <th>salary</th>\n",
              "      <th>salary_currency</th>\n",
              "      <th>salary_in_usd</th>\n",
              "      <th>employee_residence</th>\n",
              "      <th>remote_ratio</th>\n",
              "      <th>company_location</th>\n",
              "      <th>company_size</th>\n",
              "    </tr>\n",
              "  </thead>\n",
              "  <tbody>\n",
              "    <tr>\n",
              "      <th>0</th>\n",
              "      <td>2020</td>\n",
              "      <td>MI</td>\n",
              "      <td>FT</td>\n",
              "      <td>Data Scientist</td>\n",
              "      <td>70000</td>\n",
              "      <td>EUR</td>\n",
              "      <td>79833</td>\n",
              "      <td>DE</td>\n",
              "      <td>0</td>\n",
              "      <td>DE</td>\n",
              "      <td>L</td>\n",
              "    </tr>\n",
              "    <tr>\n",
              "      <th>1</th>\n",
              "      <td>2020</td>\n",
              "      <td>SE</td>\n",
              "      <td>FT</td>\n",
              "      <td>Machine Learning Scientist</td>\n",
              "      <td>260000</td>\n",
              "      <td>USD</td>\n",
              "      <td>260000</td>\n",
              "      <td>JP</td>\n",
              "      <td>0</td>\n",
              "      <td>JP</td>\n",
              "      <td>S</td>\n",
              "    </tr>\n",
              "    <tr>\n",
              "      <th>2</th>\n",
              "      <td>2020</td>\n",
              "      <td>SE</td>\n",
              "      <td>FT</td>\n",
              "      <td>Big Data Engineer</td>\n",
              "      <td>85000</td>\n",
              "      <td>GBP</td>\n",
              "      <td>109024</td>\n",
              "      <td>GB</td>\n",
              "      <td>50</td>\n",
              "      <td>GB</td>\n",
              "      <td>M</td>\n",
              "    </tr>\n",
              "    <tr>\n",
              "      <th>3</th>\n",
              "      <td>2020</td>\n",
              "      <td>MI</td>\n",
              "      <td>FT</td>\n",
              "      <td>Product Data Analyst</td>\n",
              "      <td>20000</td>\n",
              "      <td>USD</td>\n",
              "      <td>20000</td>\n",
              "      <td>HN</td>\n",
              "      <td>0</td>\n",
              "      <td>HN</td>\n",
              "      <td>S</td>\n",
              "    </tr>\n",
              "    <tr>\n",
              "      <th>4</th>\n",
              "      <td>2020</td>\n",
              "      <td>SE</td>\n",
              "      <td>FT</td>\n",
              "      <td>Machine Learning Engineer</td>\n",
              "      <td>150000</td>\n",
              "      <td>USD</td>\n",
              "      <td>150000</td>\n",
              "      <td>US</td>\n",
              "      <td>50</td>\n",
              "      <td>US</td>\n",
              "      <td>L</td>\n",
              "    </tr>\n",
              "  </tbody>\n",
              "</table>\n",
              "</div>"
            ],
            "text/plain": [
              "   work_year experience_level employment_type                   job_title  \\\n",
              "0       2020               MI              FT              Data Scientist   \n",
              "1       2020               SE              FT  Machine Learning Scientist   \n",
              "2       2020               SE              FT           Big Data Engineer   \n",
              "3       2020               MI              FT        Product Data Analyst   \n",
              "4       2020               SE              FT   Machine Learning Engineer   \n",
              "\n",
              "   salary salary_currency  salary_in_usd employee_residence  remote_ratio  \\\n",
              "0   70000             EUR          79833                 DE             0   \n",
              "1  260000             USD         260000                 JP             0   \n",
              "2   85000             GBP         109024                 GB            50   \n",
              "3   20000             USD          20000                 HN             0   \n",
              "4  150000             USD         150000                 US            50   \n",
              "\n",
              "  company_location company_size  \n",
              "0               DE            L  \n",
              "1               JP            S  \n",
              "2               GB            M  \n",
              "3               HN            S  \n",
              "4               US            L  "
            ]
          },
          "execution_count": 114,
          "metadata": {},
          "output_type": "execute_result"
        }
      ],
      "source": [
        "df = pd.read_csv('DataScienceJob/ds_salaries.csv', index_col = [0])\n",
        "df.head()"
      ]
    },
    {
      "cell_type": "code",
      "execution_count": 115,
      "metadata": {},
      "outputs": [
        {
          "name": "stdout",
          "output_type": "stream",
          "text": [
            "Method 2 - Using Pandas\n",
            "Mean: 112297.86985172982\n",
            "STD: 70957.2594113957\n"
          ]
        }
      ],
      "source": [
        "print(\"Method 2 - Using Pandas\")\n",
        "print(f\"Mean: {df.salary_in_usd.mean()}\")\n",
        "print(f\"STD: {df.salary_in_usd.std()}\")"
      ]
    },
    {
      "cell_type": "code",
      "execution_count": 116,
      "metadata": {},
      "outputs": [
        {
          "data": {
            "image/png": "[encoded data removed]",
            "text/plain": [
              "<Figure size 640x480 with 1 Axes>"
            ]
          },
          "metadata": {},
          "output_type": "display_data"
        },
        {
          "data": {
            "image/png": "[encoded data removed]",
            "text/plain": [
              "<Figure size 640x480 with 1 Axes>"
            ]
          },
          "metadata": {},
          "output_type": "display_data"
        }
      ],
      "source": [
        "sample_sizes = [30, 50]\n",
        "bin_count = 25\n",
        "total_samples = [200, 100]\n",
        "\n",
        "\n",
        "for sample_size, total_sample in zip(sample_sizes, total_samples):\n",
        "    \n",
        "    list_of_sample_means = []\n",
        "    \n",
        "    for i in range(total_sample):\n",
        "        sample = df[\"salary_in_usd\"].sample(n = sample_size, replace = True)\n",
        "        sample_mean = sample.mean()\n",
        "        list_of_sample_means.append(sample_mean)\n",
        "    \n",
        "    plt.hist(list_of_sample_means, bins = bin_count)\n",
        "    plt.title(f\"Distribution of Mean of Salaries ({total_sample} Samples of {sample_size}).\")\n",
        "    plt.xlabel(\"Salary\")\n",
        "    plt.ylabel(\"Frequency\")\n",
        "    plt.axvline(x = np.mean(list_of_sample_means), label = 'Sample Mean', color = 'green')\n",
        "    plt.axvline(x = df[\"salary_in_usd\"].mean(), label = 'Population Mean', color = 'red')\n",
        "    plt.legend(loc = \"upper right\")\n",
        "    plt.show()"
      ]
    }
  ],
  "metadata": {
    "colab": {
      "provenance": []
    },
    "kernelspec": {
      "display_name": "base",
      "language": "python",
      "name": "python3"
    },
    "language_info": {
      "codemirror_mode": {
        "name": "ipython",
        "version": 3
      },
      "file_extension": ".py",
      "mimetype": "text/x-python",
      "name": "python",
      "nbconvert_exporter": "python",
      "pygments_lexer": "ipython3",
      "version": "3.11.5"
    }
  },
  "nbformat": 4,
  "nbformat_minor": 0
}
