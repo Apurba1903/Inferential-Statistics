{
 "cells": [
  {
   "cell_type": "code",
   "execution_count": 70,
   "id": "ae99a849",
   "metadata": {},
   "outputs": [],
   "source": [
    "import pandas as pd\n",
    "import numpy as np\n",
    "import matplotlib.pyplot as plt\n",
    "import seaborn as sns"
   ]
  },
  {
   "cell_type": "code",
   "execution_count": 71,
   "id": "3f797ad4",
   "metadata": {},
   "outputs": [],
   "source": [
    "df = pd.read_csv(\"IPL\\deliveries.csv\")"
   ]
  },
  {
   "cell_type": "code",
   "execution_count": 72,
   "id": "a3c35395",
   "metadata": {},
   "outputs": [
    {
     "data": {
      "text/html": [
       "<div>\n",
       "<style scoped>\n",
       "    .dataframe tbody tr th:only-of-type {\n",
       "        vertical-align: middle;\n",
       "    }\n",
       "\n",
       "    .dataframe tbody tr th {\n",
       "        vertical-align: top;\n",
       "    }\n",
       "\n",
       "    .dataframe thead th {\n",
       "        text-align: right;\n",
       "    }\n",
       "</style>\n",
       "<table border=\"1\" class=\"dataframe\">\n",
       "  <thead>\n",
       "    <tr style=\"text-align: right;\">\n",
       "      <th></th>\n",
       "      <th>match_id</th>\n",
       "      <th>inning</th>\n",
       "      <th>batting_team</th>\n",
       "      <th>bowling_team</th>\n",
       "      <th>over</th>\n",
       "      <th>ball</th>\n",
       "      <th>batter</th>\n",
       "      <th>bowler</th>\n",
       "      <th>non_striker</th>\n",
       "      <th>batsman_runs</th>\n",
       "      <th>extra_runs</th>\n",
       "      <th>total_runs</th>\n",
       "      <th>extras_type</th>\n",
       "      <th>is_wicket</th>\n",
       "      <th>player_dismissed</th>\n",
       "      <th>dismissal_kind</th>\n",
       "      <th>fielder</th>\n",
       "    </tr>\n",
       "  </thead>\n",
       "  <tbody>\n",
       "    <tr>\n",
       "      <th>0</th>\n",
       "      <td>335982</td>\n",
       "      <td>1</td>\n",
       "      <td>Kolkata Knight Riders</td>\n",
       "      <td>Royal Challengers Bangalore</td>\n",
       "      <td>0</td>\n",
       "      <td>1</td>\n",
       "      <td>SC Ganguly</td>\n",
       "      <td>P Kumar</td>\n",
       "      <td>BB McCullum</td>\n",
       "      <td>0</td>\n",
       "      <td>1</td>\n",
       "      <td>1</td>\n",
       "      <td>legbyes</td>\n",
       "      <td>0</td>\n",
       "      <td>NaN</td>\n",
       "      <td>NaN</td>\n",
       "      <td>NaN</td>\n",
       "    </tr>\n",
       "    <tr>\n",
       "      <th>1</th>\n",
       "      <td>335982</td>\n",
       "      <td>1</td>\n",
       "      <td>Kolkata Knight Riders</td>\n",
       "      <td>Royal Challengers Bangalore</td>\n",
       "      <td>0</td>\n",
       "      <td>2</td>\n",
       "      <td>BB McCullum</td>\n",
       "      <td>P Kumar</td>\n",
       "      <td>SC Ganguly</td>\n",
       "      <td>0</td>\n",
       "      <td>0</td>\n",
       "      <td>0</td>\n",
       "      <td>NaN</td>\n",
       "      <td>0</td>\n",
       "      <td>NaN</td>\n",
       "      <td>NaN</td>\n",
       "      <td>NaN</td>\n",
       "    </tr>\n",
       "    <tr>\n",
       "      <th>2</th>\n",
       "      <td>335982</td>\n",
       "      <td>1</td>\n",
       "      <td>Kolkata Knight Riders</td>\n",
       "      <td>Royal Challengers Bangalore</td>\n",
       "      <td>0</td>\n",
       "      <td>3</td>\n",
       "      <td>BB McCullum</td>\n",
       "      <td>P Kumar</td>\n",
       "      <td>SC Ganguly</td>\n",
       "      <td>0</td>\n",
       "      <td>1</td>\n",
       "      <td>1</td>\n",
       "      <td>wides</td>\n",
       "      <td>0</td>\n",
       "      <td>NaN</td>\n",
       "      <td>NaN</td>\n",
       "      <td>NaN</td>\n",
       "    </tr>\n",
       "    <tr>\n",
       "      <th>3</th>\n",
       "      <td>335982</td>\n",
       "      <td>1</td>\n",
       "      <td>Kolkata Knight Riders</td>\n",
       "      <td>Royal Challengers Bangalore</td>\n",
       "      <td>0</td>\n",
       "      <td>4</td>\n",
       "      <td>BB McCullum</td>\n",
       "      <td>P Kumar</td>\n",
       "      <td>SC Ganguly</td>\n",
       "      <td>0</td>\n",
       "      <td>0</td>\n",
       "      <td>0</td>\n",
       "      <td>NaN</td>\n",
       "      <td>0</td>\n",
       "      <td>NaN</td>\n",
       "      <td>NaN</td>\n",
       "      <td>NaN</td>\n",
       "    </tr>\n",
       "    <tr>\n",
       "      <th>4</th>\n",
       "      <td>335982</td>\n",
       "      <td>1</td>\n",
       "      <td>Kolkata Knight Riders</td>\n",
       "      <td>Royal Challengers Bangalore</td>\n",
       "      <td>0</td>\n",
       "      <td>5</td>\n",
       "      <td>BB McCullum</td>\n",
       "      <td>P Kumar</td>\n",
       "      <td>SC Ganguly</td>\n",
       "      <td>0</td>\n",
       "      <td>0</td>\n",
       "      <td>0</td>\n",
       "      <td>NaN</td>\n",
       "      <td>0</td>\n",
       "      <td>NaN</td>\n",
       "      <td>NaN</td>\n",
       "      <td>NaN</td>\n",
       "    </tr>\n",
       "  </tbody>\n",
       "</table>\n",
       "</div>"
      ],
      "text/plain": [
       "   match_id  inning           batting_team                 bowling_team  over  \\\n",
       "0    335982       1  Kolkata Knight Riders  Royal Challengers Bangalore     0   \n",
       "1    335982       1  Kolkata Knight Riders  Royal Challengers Bangalore     0   \n",
       "2    335982       1  Kolkata Knight Riders  Royal Challengers Bangalore     0   \n",
       "3    335982       1  Kolkata Knight Riders  Royal Challengers Bangalore     0   \n",
       "4    335982       1  Kolkata Knight Riders  Royal Challengers Bangalore     0   \n",
       "\n",
       "   ball       batter   bowler  non_striker  batsman_runs  extra_runs  \\\n",
       "0     1   SC Ganguly  P Kumar  BB McCullum             0           1   \n",
       "1     2  BB McCullum  P Kumar   SC Ganguly             0           0   \n",
       "2     3  BB McCullum  P Kumar   SC Ganguly             0           1   \n",
       "3     4  BB McCullum  P Kumar   SC Ganguly             0           0   \n",
       "4     5  BB McCullum  P Kumar   SC Ganguly             0           0   \n",
       "\n",
       "   total_runs extras_type  is_wicket player_dismissed dismissal_kind fielder  \n",
       "0           1     legbyes          0              NaN            NaN     NaN  \n",
       "1           0         NaN          0              NaN            NaN     NaN  \n",
       "2           1       wides          0              NaN            NaN     NaN  \n",
       "3           0         NaN          0              NaN            NaN     NaN  \n",
       "4           0         NaN          0              NaN            NaN     NaN  "
      ]
     },
     "execution_count": 72,
     "metadata": {},
     "output_type": "execute_result"
    }
   ],
   "source": [
    "df.head()"
   ]
  },
  {
   "cell_type": "code",
   "execution_count": 73,
   "id": "172e89e9",
   "metadata": {},
   "outputs": [
    {
     "data": {
      "text/plain": [
       "batter\n",
       "A Ashish Reddy     280\n",
       "A Badoni           634\n",
       "A Chandila           4\n",
       "A Chopra            53\n",
       "A Choudhary         25\n",
       "                  ... \n",
       "Yashpal Singh       47\n",
       "Younis Khan          3\n",
       "Yudhvir Singh       22\n",
       "Yuvraj Singh      2754\n",
       "Z Khan             117\n",
       "Name: batsman_runs, Length: 673, dtype: int64"
      ]
     },
     "execution_count": 73,
     "metadata": {},
     "output_type": "execute_result"
    }
   ],
   "source": [
    "runs =  df.groupby('batter').sum()['batsman_runs']\n",
    "runs"
   ]
  },
  {
   "cell_type": "code",
   "execution_count": 74,
   "id": "02997461",
   "metadata": {},
   "outputs": [
    {
     "data": {
      "text/plain": [
       "array([ 280,  634,    4,   53,   25,    4,   62,    2,   35,  231,  381,\n",
       "         34,   19,   41,   49,  163,    2,  974,    4,    4,   15,   69,\n",
       "         12,  217,    9,    9,  179,   42,   26,  123, 5181,  120, 2069,\n",
       "         20,  181,  148,   79,  724,   90, 2488,   23,   10,   49, 2092,\n",
       "         16,   24,   91,  995,  401,  672, 4642,   36,    7,   34,   87,\n",
       "        339,   12, 1653,   27,   26,  194,   26,   49,   32, 4348,   22,\n",
       "         39,    1,  579,    0, 1377,  360,   19,    4,  115,   63,   87,\n",
       "          7,  139,  318,   36,   13,   96,    5,   29,  189,  247,   41,\n",
       "        388,   42,   76,  280,   21,  306,    5,  124, 1034,    5,   35,\n",
       "          6,  935,    3, 2882,  125,   10,  238,    1,   18, 1400,  193,\n",
       "         23,   40,    2,   32,  187,  707,   15,  177,    0,   20,  303,\n",
       "        205, 1329,  390, 4997,  618,  538,   98,   81,    8,   16,    8,\n",
       "        971,  169,  181,   78,    4,   25,  230,    8,    3, 1559,   44,\n",
       "         33,  148,   10, 2924, 6567,   12,  304,  375,   21,   12,  170,\n",
       "       1560,  111, 1466, 1322,   92,   26,  351,    1,   39,   53,  295,\n",
       "        115,   80,  121,    6,   11,  924,    4,    1, 1808,   19,   44,\n",
       "         13, 2385,  104,   18,  460,   13,  167,  347,  654, 1406,   24,\n",
       "         14, 4571,   14,    4,  183,    3,   14, 4217,   22,  739,    3,\n",
       "          4,   65,  284,    2,  663, 2772,   15,   19,  511,    2,  993,\n",
       "        190,   22,    1,  886, 2534,  577,   66,  249,  833,   18,  233,\n",
       "        123,    2,    7,   57,   15,    0, 1150,   76,    7,   33,   88,\n",
       "       2644,   23,  409,  330,   70,   29,   10,   40,  975,   17,  199,\n",
       "       3583,  604,  197,  106,   92,   10,    3,  327, 2427,   68,  614,\n",
       "         18,    0,   15, 1589,   26,  730,  259,    6, 2029,  527,    8,\n",
       "         19,  417,   78,    8,   36,  218,  247,    9,  206,   12,    0,\n",
       "         65,    1, 3437,   10,   51,   24, 1687, 4843, 1647,   13,    1,\n",
       "        116, 1496,   22, 4689,    0, 1208,   18,    5,    2, 1001,  379,\n",
       "          0,  199,   16, 2132,  351,   36,  128,    3,   12,   13,  183,\n",
       "          3,    0,   36,   34,    9,   81,  302,    1,    1,   68,  106,\n",
       "       1079,   40,  405, 1017,  939,  305,    4,   35,   66,  259,  113,\n",
       "         73,  514,   48,  126,   20,   11,    9,   55,  553,    7, 2619,\n",
       "       1083,    1, 2669,   24,  105,   12, 1000,  125,  237,   26,   14,\n",
       "       1977,  177,   58,  167,   98,  271,  278,   85,   70,    1,  527,\n",
       "       3859, 1695, 1107, 1162,   39,  124,  161,  167, 1866,  665,  798,\n",
       "       5243,   99,  183,  394,  117, 1706,    2,    0,  117,    2,    3,\n",
       "         64,  221,   74,  109,    1,   25,   12,    6,   10,   13,  162,\n",
       "       1769, 2636,  140,  350,    0,   20,    1,  121,   26,  424,   82,\n",
       "         31,   19, 1554,  140,   33,   18,  303,   13,  506,    8,   51,\n",
       "          5,    8,  127,   23,  340,  365,    1,   19,   19,  756, 2848,\n",
       "        164,  277,  505,  203,  653,  515,   26,  273,    1,   97,  624,\n",
       "         16, 1892,   92,    6,   18,   43,   72,    7,   17, 3160,  800,\n",
       "        342,   19,  210, 2174,  159,    3, 1173,  360,   51,  222,   13,\n",
       "          0,  270,   66,  115,   19, 1013,  310,   11, 2959, 2236,  129,\n",
       "       2380,   83,  159,    2, 6630,    2,  117,   32,  103,    3,   10,\n",
       "        893,  799,  326,    0,   52,    0, 3297,   67,   20,  473,   73,\n",
       "        531,    2,    4,   91,   50,   80, 4954,  289,  170,  545,   40,\n",
       "         32,  136,   59,   13, 1441,   25, 6769, 1502,  180,   20,    0,\n",
       "          0,    0,   39,   37,   91,    2,  368,   34,   31,    3,  145,\n",
       "         22,  423, 3594,   49,   33,   28,    6,  131,    2, 1349,   99,\n",
       "        183,   15,    1, 2489,  106,    6,    5, 5536,   42,  198,   88,\n",
       "        883,    9,  241,  147,   10,  585,  307, 1243,  196,  293,   61,\n",
       "       1534, 2495, 2334, 3880,    0, 3131,  126,    6, 1494,  768,  880,\n",
       "       4419,  503,   23,    1,  144,  193,   51,   54,   25,   18,  536,\n",
       "         81,  795,  423,   51,    5,    2,    1,    2,   52, 3216,  182,\n",
       "          7,   36,   18,    0,   43,   51,   18,   11,   48,   11,    3,\n",
       "          2,  405,   31,   12,   83,   10,  120,  659,  127,   26,  676,\n",
       "       1153,  772,    8,   75,    8,   21,   24, 1156,    0,    7,  300,\n",
       "        127,  208,   39,   23, 8014,    0, 2728, 1115,    7,    9,   29,\n",
       "         50, 1326,    4,    7,    2,  282,   15,   14,   15,   56,   69,\n",
       "        130,   56,   65,  230, 2934,   81,  378,   10,   19,  285,    0,\n",
       "        985,    0, 1607, 3222,   37,   16,  192,    0,   47,    3,   22,\n",
       "       2754,  117], dtype=int64)"
      ]
     },
     "execution_count": 74,
     "metadata": {},
     "output_type": "execute_result"
    }
   ],
   "source": [
    "runs = runs.values\n",
    "runs"
   ]
  },
  {
   "cell_type": "code",
   "execution_count": 75,
   "id": "f26bf3e5",
   "metadata": {},
   "outputs": [
    {
     "data": {
      "image/png": "[encoded data removed]",
      "text/plain": [
       "<Figure size 640x480 with 1 Axes>"
      ]
     },
     "metadata": {},
     "output_type": "display_data"
    }
   ],
   "source": [
    "sns.histplot(runs)\n",
    "plt.show()"
   ]
  },
  {
   "cell_type": "code",
   "execution_count": 76,
   "id": "d8a3a454",
   "metadata": {},
   "outputs": [],
   "source": [
    "n = 50\n",
    "m = 1000\n",
    "\n",
    "new = []\n",
    "\n",
    "for i in range(m):\n",
    "    x = np.random.choice(runs, size=n)\n",
    "    new.append(x.mean())"
   ]
  },
  {
   "cell_type": "code",
   "execution_count": 77,
   "id": "6d6352f8",
   "metadata": {},
   "outputs": [
    {
     "data": {
      "text/plain": [
       "1000"
      ]
     },
     "execution_count": 77,
     "metadata": {},
     "output_type": "execute_result"
    }
   ],
   "source": [
    "len(new)"
   ]
  },
  {
   "cell_type": "code",
   "execution_count": 78,
   "id": "0a97bf34",
   "metadata": {},
   "outputs": [
    {
     "name": "stdout",
     "output_type": "stream",
     "text": [
      "[ 641.08  784.78  638.58  530.58  464.16  619.86  501.1   330.7   609.4\n",
      "  590.58  678.62  344.02  427.68  554.9   421.7   506.2   681.94  647.82\n",
      "  440.5   448.36  408.86  818.62  522.56  369.42  279.38  653.76  371.96\n",
      "  327.64  599.64  364.68  280.64  356.08  307.66  366.32  573.06  662.42\n",
      "  661.06  555.46  315.8   359.66  255.82  257.64  620.9   562.56  535.24\n",
      "  338.94  462.54  749.42  293.26  536.    315.68  561.62  548.2   455.34\n",
      "  574.38  781.82  455.86  426.44  536.06  455.8   519.68  349.5   356.94\n",
      "  618.86  463.34  550.62  464.42  299.78  379.02  563.2   477.08  289.86\n",
      "  499.34  495.9   126.62  364.12  613.28  306.48  365.48  305.06  348.16\n",
      "  375.72  788.98  291.56  714.06  639.42  484.1   509.4   599.92  393.64\n",
      "  561.06  366.28  237.18  581.6   776.72  522.56  332.84  324.68  424.52\n",
      "  641.9   627.58  275.32  684.28  574.84  404.38  326.74  862.92  599.7\n",
      "  609.5   265.66  713.26  646.34 1021.5   354.5   488.48  349.36  431.66\n",
      "  454.16  653.2   335.12  351.12  412.28  299.6   462.98  522.    864.78\n",
      "  344.44  486.76  340.14  620.28  928.92  552.24  318.84  300.3   432.5\n",
      "  607.96  365.82  424.26  321.1   652.52  562.88  485.96  482.46  455.56\n",
      "  652.2   254.36  346.3   478.    516.68  560.6   321.76  582.08  616.18\n",
      "  724.34  570.64  344.1   572.54  405.14  638.68  413.56  647.9   311.12\n",
      "  867.48  658.46  613.9   351.76  489.56  439.78  383.52  454.1   566.38\n",
      "  415.22  335.64  756.26  456.28  434.98  444.98  596.32  473.54  435.7\n",
      "  525.74  714.74  428.76  453.1   349.6   338.24  330.56  278.86  378.24\n",
      "  538.52  488.    476.1   465.32  274.96  729.9   442.74  428.78  440.28\n",
      "  690.82  413.28  749.18  518.04  226.76  703.02  188.84  714.8   467.5\n",
      "  582.86  695.38  554.3   596.42  488.74  197.86  680.68  690.02  411.88\n",
      "  390.5   679.72  392.76  393.18  634.02  576.1   520.46  221.04  341.72\n",
      "  880.96  381.7   316.42  384.28  456.68  549.56  504.54  383.02  488.9\n",
      "  730.44  426.32  478.14  424.42  656.74  651.56  535.82  304.86  432.64\n",
      "  526.64  450.62  944.6   312.92  472.42  666.94  596.64  346.78  332.22\n",
      "  326.5   505.24  229.54  686.68  428.1   303.92  291.84  504.48  355.24\n",
      "  604.08  505.5   571.72  520.32  344.34  471.04  389.24  417.8   538.48\n",
      "  491.34  487.8   337.78  600.26  530.28  521.72  581.66  268.08  534.56\n",
      "  867.02  492.2   481.44  427.22  641.02  655.84  312.44  637.04  514.26\n",
      "  430.4   545.66  255.46  495.56  249.18  281.36  537.18  565.2   626.72\n",
      "  448.32  755.24  417.36  312.26  327.98  470.04  416.32  430.48  631.56\n",
      "  378.94  674.48  324.8   461.    503.56  592.04  512.7   497.56  423.98\n",
      "  557.9   425.72  544.12  669.38  414.4   358.48  473.12  503.62  497.38\n",
      "  920.22  483.9   526.66  279.36  246.    470.62  808.68  562.58  357.08\n",
      "  495.46  375.72  653.3   903.16  627.08  577.62  448.04  727.28  442.86\n",
      "  429.98  548.54  379.68  489.3   450.12  377.76  449.98  276.58  578.82\n",
      "  326.7   628.82  731.18  619.06  424.3   408.24  434.74  689.94  347.28\n",
      "  481.5   595.94  608.6   848.    706.5   551.22  350.02  246.3   555.34\n",
      "  509.34  577.76  665.5   514.62  409.46  435.2   367.98  497.7   309.7\n",
      "  452.08  515.2   586.24  541.82  262.28  299.14  329.88  795.46  445.3\n",
      "  348.16  697.8   729.98  472.58  432.58  258.44  544.86  757.96  585.8\n",
      "  628.46  325.18  141.86  293.82  465.14  262.82  690.82  567.54  742.36\n",
      "  420.6   346.24  311.22  685.64  575.34  415.36  626.8   657.58  492.38\n",
      "  402.22  262.86  321.72  742.52  282.02  729.48  353.18  615.86  319.12\n",
      "  385.6   687.76  594.52  677.72  328.68  557.5   375.62  452.04  694.22\n",
      "  531.88  818.02  644.84  376.08  474.56  308.44  731.82  558.82  650.92\n",
      "  788.9   607.36  384.88  352.68  450.32  616.12  358.12  450.78  390.6\n",
      "  449.6   638.22  376.26  314.3   452.46  461.8   331.02  592.58  642.3\n",
      "  271.62  464.98  448.38  343.36  285.52  713.08  392.    897.58  551.12\n",
      "  306.7   450.74  515.58  192.82  604.7   675.24  292.36  240.3   451.74\n",
      "  427.9   488.26  452.74  397.98  556.44  601.2   293.9   365.36  353.94\n",
      "  319.54  436.08  518.92  590.8   289.44  387.64  679.82  720.04  526.22\n",
      "  828.82  336.64  747.54  689.26  716.86  468.3   321.68  325.04  279.04\n",
      "  352.7   439.54  498.28  818.16  412.58  549.66  584.64  359.16  409.66\n",
      "  395.58  560.1   641.52  486.9   613.94  435.58  480.54  737.96  604.06\n",
      "  537.94  424.24  311.24  436.38  401.92  470.64  581.82  293.64  589.26\n",
      "  371.6   268.58  356.82  271.8   459.48  698.64  464.5   426.28  583.5\n",
      "  531.94  464.48  515.98  262.02  477.04  602.1   482.9   598.62  675.66\n",
      "  501.96  513.54  776.58  487.94  734.36  544.7   460.06  489.    275.92\n",
      "  313.26  469.5   408.14  349.04  384.38  423.06  323.84  584.84  497.54\n",
      "  512.92  619.94  561.78  599.98  365.2   433.06  603.3   443.7   332.64\n",
      "  291.92  469.82  506.14  504.02  335.26  628.32  505.6   605.14  505.72\n",
      "  397.8   536.66  643.68  474.86  335.86  448.14  656.18  597.66  390.82\n",
      "  315.42  581.54  561.26  471.56  536.32  618.88  603.9   336.06  540.52\n",
      "  553.68  547.22  561.7   562.06  680.82  407.8   504.48  341.96  578.06\n",
      "  670.78  610.2   600.56  386.84  428.3   338.66  432.06  442.6   381.42\n",
      "  595.26  753.12  666.24  374.54  330.    490.18  637.32  475.84  379.14\n",
      "  499.08  537.56  372.44  228.84  364.88  527.38  252.6   494.82  444.44\n",
      "  538.82  338.7   932.84  453.02  616.08  382.34  289.94  562.42  513.94\n",
      "  657.16  508.82  909.54  786.26  456.42  542.6   440.16  520.48  693.78\n",
      "  698.9   553.24  549.48  632.06  350.18  482.12  494.82  515.14  492.46\n",
      "  354.88  587.92  313.9   765.8   774.78  442.5   624.28  654.58  586.4\n",
      "  384.68  676.94  709.44  823.22  363.    402.12  400.06  479.28  501.12\n",
      "  375.84  415.62  466.28  590.06  454.92  582.62  388.    254.94  438.88\n",
      "  568.18  525.88  262.44  317.22  465.4   574.58  459.16  341.76  258.42\n",
      "  383.98  438.48  276.86  601.62  696.    586.4   340.3   496.84  424.28\n",
      "  284.84  657.2   193.84  308.96  441.62  533.72  559.28  459.24  663.26\n",
      "  500.48  281.82  363.44  246.84  377.86  757.44  314.92  433.72  685.52\n",
      "  360.7   447.04  711.22  554.94  514.98  528.8   705.24  489.68  462.9\n",
      "  935.8   657.86  377.06  364.02  266.12  608.24  510.52  468.64  537.74\n",
      "  533.48  726.96  768.94  609.78  352.1   813.4   417.14  411.46  417.74\n",
      "  635.54  715.94  279.94  607.96  211.86  174.52  919.64  289.58  329.52\n",
      "  670.44  665.16  789.16  461.04  541.28  526.34  732.66  331.68  300.7\n",
      "  342.42  651.92  501.14  796.32  343.72  291.98  440.84  508.66  464.48\n",
      "  330.08  463.68  572.72  348.66  562.84  349.94  415.82  548.98  316.52\n",
      "  392.26  524.48  587.88  433.08  404.96  363.28  465.64  386.88  309.32\n",
      "  393.18  297.8   583.24  727.52  490.1   463.    360.14  417.52  413.22\n",
      "  352.68  408.84  417.42  679.34  605.56  324.72  503.06  362.8   518.3\n",
      "  430.54  406.54  690.24  516.38  386.06  331.34  588.24  298.98  286.96\n",
      "  490.58  545.48  655.58  425.22  444.    203.54  708.54  420.72  476.68\n",
      "  232.8   266.46  569.06  496.46  544.28  404.72  714.82  535.6   388.64\n",
      "  453.34  490.68  663.52  561.48  459.18  550.2   531.66  591.12  182.64\n",
      "  355.4   509.62  461.96  271.96  313.56  536.94  627.84  483.06  338.1\n",
      "  630.54  343.74  231.44  735.56  588.64  252.7   343.62  302.76  245.46\n",
      "  910.78  203.48  494.18  452.94  439.    505.3   443.36  528.32  634.38\n",
      "  441.18  456.84  337.72  550.1   616.38  600.38  560.62  444.    406.5\n",
      "  385.3   433.24  654.38  438.64  366.16  548.92  523.02  614.54  505.32\n",
      "  569.8   477.94  315.72  465.76  405.34  364.94  638.16  599.78  613.1\n",
      "  530.92  426.74  283.08  323.8   546.54  541.86  541.88  504.04  578.62\n",
      "  493.14  523.74  368.12  591.    258.74  575.02  935.82  350.8   478.22\n",
      "  441.16  477.58  526.86  339.14  620.02  656.12  523.94  456.08  538.98\n",
      "  418.28  354.82  571.22  326.6   488.6   496.02  500.52  484.2   392.34\n",
      "  648.76  389.62  216.96  490.26  686.76  667.26  420.24  480.58  643.1\n",
      "  225.48  315.34  700.6   360.98  757.54  337.7   410.72  308.48  442.48\n",
      "  659.74  386.4   795.7   448.02  477.32  263.32  630.98  479.5   274.08\n",
      "  469.06  904.9   615.58  525.36  452.42  325.06  294.46  497.02  740.54\n",
      "  248.92  404.78  538.82  592.86  481.62  294.76  373.98  703.44  509.28\n",
      "  832.62  404.98  296.4   385.08  285.38  491.5   570.34  505.3   590.\n",
      "  204.6 ]\n"
     ]
    }
   ],
   "source": [
    "new = np.array(new)\n",
    "print(new)"
   ]
  },
  {
   "cell_type": "code",
   "execution_count": 79,
   "id": "8af97622",
   "metadata": {},
   "outputs": [
    {
     "data": {
      "image/png": "[encoded data removed]",
      "text/plain": [
       "<Figure size 640x480 with 1 Axes>"
      ]
     },
     "metadata": {},
     "output_type": "display_data"
    }
   ],
   "source": [
    "sns.histplot(new)\n",
    "plt.show()"
   ]
  },
  {
   "cell_type": "code",
   "execution_count": 80,
   "id": "e98b41d5",
   "metadata": {},
   "outputs": [
    {
     "data": {
      "image/png": "[encoded data removed]",
      "text/plain": [
       "<Figure size 1200x500 with 2 Axes>"
      ]
     },
     "metadata": {},
     "output_type": "display_data"
    }
   ],
   "source": [
    "# Set up the subplot grid: 1 row, 2 columns\n",
    "plt.figure(figsize=(12, 5))\n",
    "\n",
    "# First plot (left)\n",
    "plt.subplot(1, 2, 1)\n",
    "sns.histplot(runs, kde=True)\n",
    "plt.title('Histogram of runs')\n",
    "\n",
    "# Second plot (right)\n",
    "plt.subplot(1, 2, 2)\n",
    "sns.histplot(new, kde=True)\n",
    "plt.title('Histogram of new')\n",
    "\n",
    "plt.tight_layout()  # Adjust spacing to prevent overlap\n",
    "plt.show()\n"
   ]
  },
  {
   "cell_type": "code",
   "execution_count": 81,
   "id": "e6e5b451",
   "metadata": {},
   "outputs": [
    {
     "name": "stdout",
     "output_type": "stream",
     "text": [
      "490.4368499257058\n",
      "488.63996000000003\n"
     ]
    }
   ],
   "source": [
    "print(runs.mean())\n",
    "print(new.mean())"
   ]
  },
  {
   "cell_type": "code",
   "execution_count": 82,
   "id": "eb13a974",
   "metadata": {},
   "outputs": [
    {
     "name": "stdout",
     "output_type": "stream",
     "text": [
      "21644.545484877322\n",
      "22212.9364823984\n"
     ]
    }
   ],
   "source": [
    "print(runs.var()/50)\n",
    "print(new.var())"
   ]
  },
  {
   "cell_type": "code",
   "execution_count": 83,
   "id": "6def2589",
   "metadata": {},
   "outputs": [
    {
     "name": "stdout",
     "output_type": "stream",
     "text": [
      "147.12085333112137\n",
      "149.0400499275225\n"
     ]
    }
   ],
   "source": [
    "print(runs.std()/np.sqrt(50))\n",
    "print(new.std())"
   ]
  }
 ],
 "metadata": {
  "kernelspec": {
   "display_name": "base",
   "language": "python",
   "name": "python3"
  },
  "language_info": {
   "codemirror_mode": {
    "name": "ipython",
    "version": 3
   },
   "file_extension": ".py",
   "mimetype": "text/x-python",
   "name": "python",
   "nbconvert_exporter": "python",
   "pygments_lexer": "ipython3",
   "version": "3.11.5"
  }
 },
 "nbformat": 4,
 "nbformat_minor": 5
}
